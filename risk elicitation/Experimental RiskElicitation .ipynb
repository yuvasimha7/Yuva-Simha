{
 "cells": [
  {
   "cell_type": "code",
   "execution_count": null,
   "metadata": {},
   "outputs": [],
   "source": [
    "import pandas as pd\n",
    "import numpy as np\n",
    "import matplotlib.pyplot as plt\n",
    "import scipy\n",
    "from scipy.stats import mannwhitneyu\n",
    "import statistics"
   ]
  },
  {
   "cell_type": "code",
   "execution_count": null,
   "metadata": {},
   "outputs": [],
   "source": [
    "comp_responses = pd.read_csv('E:/term 3/experimental economics/replication experient/compresponses/compresponses.csv') #only completed responses are taken into consideration\n",
    "comp_responses = comp_responses[2:] # removing fisrst row, which is generic qualtrics row\n",
    "comp_responses.index = np.arange(1, len(comp_responses) + 1) \n",
    "comp_responses"
   ]
  },
  {
   "cell_type": "code",
   "execution_count": null,
   "metadata": {},
   "outputs": [],
   "source": [
    "#only required columns are taken into consideration\n",
    "df = comp_responses[['Q1','Q4','Q5','Q4_1','Q4_2','Q4_3','Q4_4','Q4_5','Q4_6','Q4_7','Q4_8','Q4_9','Q4_10']]\n",
    "add_df = comp_responses[['Q2','Q3','Q5.1','Q6']]"
   ]
  },
  {
   "cell_type": "code",
   "execution_count": null,
   "metadata": {},
   "outputs": [],
   "source": [
    "#data cleaning task\n",
    "cols = df.columns.drop('Q1')\n",
    "\n",
    "df[cols] = df[cols].apply(pd.to_numeric, errors='coerce')\n",
    "\n",
    "df_sex = df.groupby('Q1')\n",
    "males = df[df['Q1']=='male']\n",
    "females = df[df['Q1']=='female']\n",
    "exp = df[df['Q4']=='1']\n",
    "non_exp = df[df['Q4']=='2']\n",
    "df.dtypes\n",
    "males.dtypes"
   ]
  },
  {
   "cell_type": "code",
   "execution_count": null,
   "metadata": {},
   "outputs": [],
   "source": [
    "# assigning risk values of Eckel gossman model\n",
    "val = 9\n",
    "i = 4\n",
    "r = [1,.855,.565,.3,.02,-.14]\n",
    "k = 0\n",
    "while(i<=val):\n",
    "    males.loc[males['Q5']==i,'EG']= r[k]\n",
    "    df.loc[df['Q5']== i,'EG']=r[k]\n",
    "   \n",
    "    k = k+1\n",
    "    i = i+1\n",
    "    \n",
    "males_EG = males\n",
    "df"
   ]
  },
  {
   "cell_type": "code",
   "execution_count": null,
   "metadata": {},
   "outputs": [],
   "source": [
    "mhl[\"sum_1\"] = mhl.apply(lambda row: sum(row[0:11]==1) ,axis=1)\n",
    "mhl[\"sum_2\"] = mhl.apply(lambda row: sum(row[0:11]==2) ,axis=1)\n",
    "df['sum_1'] = df.apply(lambda row:sum(row[0:11]==1),axis= 1)\n",
    "\n",
    "df"
   ]
  },
  {
   "cell_type": "code",
   "execution_count": null,
   "metadata": {},
   "outputs": [],
   "source": [
    "#assigning risk values for hoult laury model\n",
    "val2 =10\n",
    "r2 = [-.95,-.72,-.325,0,.28,.545,.825,1.17,1.37,1.37]\n",
    "k2 = 0\n",
    "i2=1\n",
    "while(i2<=10):\n",
    "    mhl.loc[mhl[\"sum_1\"]==i2,'HL']= r2[k2]\n",
    "    df.loc[df['sum_1']==i2,'HL'] = r2[k2]\n",
    "    i2 = i2+1\n",
    "    k2 = k2+1\n",
    "df"
   ]
  },
  {
   "cell_type": "code",
   "execution_count": null,
   "metadata": {},
   "outputs": [],
   "source": [
    "#mann whitney test\n",
    "mannwhitneyu(a_hl, b_hl)\n",
    "mannwhitneyu(a_eg, b_eg)"
   ]
  },
  {
   "cell_type": "code",
   "execution_count": null,
   "metadata": {},
   "outputs": [],
   "source": [
    "#box plots for the tests\n",
    "risk_values =pd.DataFrame({'male_hl':a_hl, 'female_hl':b_hl,'male_eg':a_eg, 'female_eg ':b_eg},  dtype = object)\n",
    "\n",
    "box_plot_data=[a_hl,b_hl,a_eg,b_eg]\n",
    "box=plt.boxplot(box_plot_data,vert=0,patch_artist=True,labels=['male_hl','female_hl','male_eg','female_eg'],)\n",
    "\n",
    "\n",
    " \n",
    "colors =['cyan', 'lightblue', 'lightgreen', 'tan']\n",
    "for patch, color in zip(box['boxes'], colors):\n",
    "    patch.set_facecolor(color)\n",
    " \n",
    "plt.show()"
   ]
  },
  {
   "cell_type": "code",
   "execution_count": null,
   "metadata": {},
   "outputs": [],
   "source": [
    "#distribution of samples\n",
    "axes = risk_values.plot.bar(figsize = (20,20), rot=0, subplots=True)\n",
    "axes[1].legend(loc=2) "
   ]
  },
  {
   "cell_type": "code",
   "execution_count": null,
   "metadata": {},
   "outputs": [],
   "source": [
    "#correlation between two tests\n",
    "df['HL'].corr(df['EG'])\n",
    "\n",
    "x = df['HL']\n",
    "y = df['EG']\n",
    "slope, intercept, r, p, stderr = scipy.stats.linregress(x, y)\n",
    "line = f' r={r:.2f}'\n",
    "fig,ax = plt.subplots()\n",
    "ax.plot(x, y, linewidth=0, marker='s', label='Data points')\n",
    "ax.plot(x, intercept + slope * x, label=line)\n",
    "ax.set_title('Correlation between HL and EG')\n",
    "ax.set_xlabel('Holt- Laury')\n",
    "ax.set_ylabel('Eckel- Grossman')\n",
    "ax.legend()\n",
    "plt.show()"
   ]
  },
  {
   "cell_type": "code",
   "execution_count": null,
   "metadata": {},
   "outputs": [],
   "source": [
    "#details of participants\n",
    "labels = 'completed', 'incomplete',\n",
    "sizes = [41, 15]\n",
    "#explode = (0, 0.1, 0, 0)  # only \"explode\" the 2nd slice (i.e. 'Hogs')\n",
    "\n",
    "fig1, ax1 = plt.subplots()\n",
    "ax1.pie(sizes, labels=labels, autopct='%1.1f%%',\n",
    "        shadow=True, startangle=90)\n",
    "ax1.set_title('survey completion rate')\n",
    "ax1.axis('equal')  # Equal aspect ratio ensures that pie is drawn as a circle.\n",
    "\n",
    "plt.show()"
   ]
  },
  {
   "cell_type": "code",
   "execution_count": null,
   "metadata": {},
   "outputs": [],
   "source": [
    "labels = 'HL and EG', 'HL','EG','none'\n",
    "sizes = [2, 0,5,8]\n",
    "#explode = (0, 0.1, 0, 0)  # only \"explode\" the 2nd slice (i.e. 'Hogs')\n",
    "\n",
    "fig1, ax1 = plt.subplots()\n",
    "ax1.pie(sizes, labels=labels, autopct='%1.1f%%',\n",
    "        shadow=True, startangle=90)\n",
    "ax1.set_title('Completed sections of incomplete surveys')\n",
    "ax1.axis('equal')  # Equal aspect ratio ensures that pie is drawn as a circle.\n",
    "\n",
    "plt.show()"
   ]
  }
 ],
 "metadata": {
  "kernelspec": {
   "display_name": "Python 3",
   "language": "python",
   "name": "python3"
  },
  "language_info": {
   "codemirror_mode": {
    "name": "ipython",
    "version": 3
   },
   "file_extension": ".py",
   "mimetype": "text/x-python",
   "name": "python",
   "nbconvert_exporter": "python",
   "pygments_lexer": "ipython3",
   "version": "3.7.1"
  }
 },
 "nbformat": 4,
 "nbformat_minor": 2
}
